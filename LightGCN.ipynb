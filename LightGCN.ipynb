{
 "cells": [
  {
   "cell_type": "markdown",
   "source": [
    "## My--LightGCN"
   ],
   "metadata": {
    "collapsed": false
   },
   "id": "9a6d2bd03d5d53e2"
  },
  {
   "cell_type": "markdown",
   "source": [
    "### 1. import  basic packages"
   ],
   "metadata": {
    "collapsed": false
   },
   "id": "c1ed46da4eb1efad"
  },
  {
   "cell_type": "code",
   "execution_count": 1,
   "outputs": [],
   "source": [
    "import random\n",
    "import numpy as np\n",
    "import pandas as pd\n",
    "import matplotlib.pyplot as plt\n",
    "import scipy.sparse as sp\n",
    "from sklearn import preprocessing\n",
    "from sklearn.model_selection import train_test_split\n",
    "\n",
    "import torch\n",
    "import torch.nn as nn\n",
    "import torch.optim as optim\n",
    "from torch.utils.data import Dataset\n",
    "import torch.nn.functional as F\n",
    "\n",
    "from torch_geometric.data import download_url, extract_zip\n",
    "from tqdm.notebook import tqdm"
   ],
   "metadata": {
    "collapsed": false,
    "ExecuteTime": {
     "end_time": "2024-01-01T03:01:34.612440400Z",
     "start_time": "2024-01-01T03:01:31.865163800Z"
    }
   },
   "id": "3d54bf9be045467c"
  },
  {
   "cell_type": "code",
   "execution_count": 2,
   "outputs": [
    {
     "name": "stdout",
     "output_type": "stream",
     "text": [
      "2.1.0+cu121\n"
     ]
    }
   ],
   "source": [
    "print(torch.__version__)"
   ],
   "metadata": {
    "collapsed": false,
    "ExecuteTime": {
     "end_time": "2024-01-01T03:01:34.629542400Z",
     "start_time": "2024-01-01T03:01:34.613440100Z"
    }
   },
   "id": "8ae812caf300d355"
  },
  {
   "cell_type": "markdown",
   "source": [
    "### 2. load Dataset"
   ],
   "metadata": {
    "collapsed": false
   },
   "id": "38b1bdcf36f4bdef"
  },
  {
   "cell_type": "markdown",
   "source": [
    "#### 2-1 download dataset"
   ],
   "metadata": {
    "collapsed": false
   },
   "id": "1df34e85d0ef6b4e"
  },
  {
   "cell_type": "code",
   "execution_count": 3,
   "outputs": [
    {
     "name": "stderr",
     "output_type": "stream",
     "text": [
      "Using existing file ml-latest-small.zip\n",
      "Extracting .\\ml-latest-small.zip\n"
     ]
    }
   ],
   "source": [
    "url_path = 'https://files.grouplens.org/datasets/movielens/ml-latest-small.zip'\n",
    "extract_zip(path=download_url(url=url_path, folder='.'), folder='.')"
   ],
   "metadata": {
    "collapsed": false,
    "ExecuteTime": {
     "end_time": "2024-01-01T03:01:34.676232100Z",
     "start_time": "2024-01-01T03:01:34.629542400Z"
    }
   },
   "id": "f3de63437529ce94"
  },
  {
   "cell_type": "code",
   "execution_count": 4,
   "outputs": [],
   "source": [
    "movie_path = './ml-latest-small/movies.csv'\n",
    "rating_path = './ml-latest-small/ratings.csv'\n",
    "user_path = './ml-latest-small/users.csv'"
   ],
   "metadata": {
    "collapsed": false,
    "ExecuteTime": {
     "end_time": "2024-01-01T03:01:34.685490600Z",
     "start_time": "2024-01-01T03:01:34.663606500Z"
    }
   },
   "id": "78a986927f51fafd"
  },
  {
   "cell_type": "code",
   "execution_count": 5,
   "outputs": [
    {
     "name": "stdout",
     "output_type": "stream",
     "text": [
      "   userId  movieId  rating  timestamp\n",
      "0       1        1     4.0  964982703\n",
      "1       1        3     4.0  964981247\n",
      "2       1        6     4.0  964982224\n",
      "3       1       47     5.0  964983815\n",
      "4       1       50     5.0  964982931\n"
     ]
    }
   ],
   "source": [
    "rating_df = pd.read_csv(rating_path)\n",
    "print(rating_df.head())"
   ],
   "metadata": {
    "collapsed": false,
    "ExecuteTime": {
     "end_time": "2024-01-01T03:01:34.714485Z",
     "start_time": "2024-01-01T03:01:34.677986Z"
    }
   },
   "id": "3fb3ea6ed3036260"
  },
  {
   "cell_type": "code",
   "execution_count": 6,
   "outputs": [],
   "source": [
    "# label numeric\n",
    "# machine learning models only take numerical data\n",
    "lbl_user = preprocessing.LabelEncoder()\n",
    "lbl_movie = preprocessing.LabelEncoder()"
   ],
   "metadata": {
    "collapsed": false,
    "ExecuteTime": {
     "end_time": "2024-01-01T03:01:34.731534800Z",
     "start_time": "2024-01-01T03:01:34.714485Z"
    }
   },
   "id": "1699f0e65cae24a4"
  },
  {
   "cell_type": "code",
   "execution_count": 7,
   "outputs": [
    {
     "name": "stdout",
     "output_type": "stream",
     "text": [
      "[  1   1   1 ... 610 610 610]\n"
     ]
    }
   ],
   "source": [
    "print(np.array(rating_df.userId))"
   ],
   "metadata": {
    "collapsed": false,
    "ExecuteTime": {
     "end_time": "2024-01-01T03:01:34.778390Z",
     "start_time": "2024-01-01T03:01:34.733534700Z"
    }
   },
   "id": "2b0649f8ea5ec0c7"
  },
  {
   "cell_type": "code",
   "execution_count": 8,
   "outputs": [],
   "source": [
    "rating_df.userId = lbl_user.fit_transform(np.array(rating_df.userId))\n",
    "rating_df.movieId = lbl_movie.fit_transform(np.array(rating_df.movieId))"
   ],
   "metadata": {
    "collapsed": false,
    "ExecuteTime": {
     "end_time": "2024-01-01T03:01:34.789156800Z",
     "start_time": "2024-01-01T03:01:34.752810100Z"
    }
   },
   "id": "5c5ba063ca17bf5e"
  },
  {
   "cell_type": "code",
   "execution_count": 9,
   "outputs": [
    {
     "name": "stdout",
     "output_type": "stream",
     "text": [
      "rating_df.userId.max()=609\n",
      "rating_df.movieId.max()=9723\n"
     ]
    }
   ],
   "source": [
    "print(f'rating_df.userId.max()={rating_df.userId.max()}')   # users 0 ~ 609\n",
    "print(f'rating_df.movieId.max()={rating_df.movieId.max()}') # movies 0 ~ 9723"
   ],
   "metadata": {
    "collapsed": false,
    "ExecuteTime": {
     "end_time": "2024-01-01T03:01:34.790157300Z",
     "start_time": "2024-01-01T03:01:34.762818300Z"
    }
   },
   "id": "9e889c374ffb7237"
  },
  {
   "cell_type": "markdown",
   "source": [
    "#### 2-2 load edges between users and movies for structured negative sampling"
   ],
   "metadata": {
    "collapsed": false
   },
   "id": "730e9ab010b7ac9c"
  },
  {
   "cell_type": "code",
   "execution_count": 10,
   "outputs": [],
   "source": [
    "def load_edge_csv(rating_df, src_index_col, det_index_col, link_index_col, rating_threshold=3.5):\n",
    "    \"\"\"\n",
    "    load COO matrix between users and items (COO format)\n",
    "    :param src_index_col: column name of users\n",
    "    :param det_index_col: column name of items\n",
    "    :param link_index_col: user item intersection\n",
    "    :param rating_threshold: filter ranks lower than 3.5\n",
    "    :return edge_index: the position of each record, user_id and item_id respectively\n",
    "    :return edge_values: the value of each record\n",
    "    \"\"\"\n",
    "    \n",
    "    src = [user_id for user_id in rating_df['userId']]\n",
    "    det = [movie_id for movie_id in rating_df['movieId']]\n",
    "    link_vals = rating_df[link_index_col].values  # extract all rating from rating_df -> tensor\n",
    "    \n",
    "    # edge_attr is a bool tensor, each element is >0 when the rating > rating_threshold counterpart\n",
    "    # view(-1, 1) -> len(\n",
    "    edge_attr = torch.from_numpy(link_vals).view(-1, 1).to(torch.long) >= rating_threshold  # len(edge_attr) == len(link_vals)\n",
    "    edge_index = [[], []]\n",
    "    edge_values = []\n",
    "    for i in range(edge_attr.shape[0]):\n",
    "        if edge_attr[i]:\n",
    "            edge_index[0].append(src[i])\n",
    "            edge_index[1].append(det[i])\n",
    "            edge_values.append(link_vals[i])\n",
    "            \n",
    "    return edge_index, edge_values "
   ],
   "metadata": {
    "collapsed": false,
    "ExecuteTime": {
     "end_time": "2024-01-01T03:01:34.829783200Z",
     "start_time": "2024-01-01T03:01:34.781064400Z"
    }
   },
   "id": "b65f386a671fb4df"
  },
  {
   "cell_type": "code",
   "execution_count": 11,
   "outputs": [
    {
     "name": "stdout",
     "output_type": "stream",
     "text": [
      "num_intersections=48580\n"
     ]
    }
   ],
   "source": [
    "# all records in edge_index are valid records! \n",
    "edge_index, edge_values = load_edge_csv(rating_df,\n",
    "                           src_index_col='userId',\n",
    "                           det_index_col='movieId',\n",
    "                           link_index_col='rating',\n",
    "                           rating_threshold=3.5\n",
    "                           )\n",
    "\n",
    "print(f'num_intersections={len(edge_index[0])}')  # 48580 valid rating records"
   ],
   "metadata": {
    "collapsed": false,
    "ExecuteTime": {
     "end_time": "2024-01-01T03:01:34.956593300Z",
     "start_time": "2024-01-01T03:01:34.799225300Z"
    }
   },
   "id": "b10120a6a6e0be4d"
  },
  {
   "cell_type": "code",
   "execution_count": 12,
   "outputs": [
    {
     "name": "stdout",
     "output_type": "stream",
     "text": [
      "int32\n",
      "edge_values.size=48580\n"
     ]
    }
   ],
   "source": [
    "edge_index = np.array(edge_index)  # list -> ndarray\n",
    "print(edge_index.dtype)   # 48580 valid intersections -> int 32\n",
    "edge_values = np.array(edge_values)\n",
    "print(f'edge_values.size={len(edge_values)}')"
   ],
   "metadata": {
    "collapsed": false,
    "ExecuteTime": {
     "end_time": "2024-01-01T03:01:35.005261800Z",
     "start_time": "2024-01-01T03:01:34.959592600Z"
    }
   },
   "id": "1f0393ccb64149ea"
  },
  {
   "cell_type": "code",
   "execution_count": 13,
   "outputs": [],
   "source": [
    "# unique() in pd: remove all duplicates\n",
    "num_movies = len(rating_df['movieId'].unique())  # 9724 movies\n",
    "num_users = len(rating_df['userId'].unique())   # 610 users"
   ],
   "metadata": {
    "collapsed": false,
    "ExecuteTime": {
     "end_time": "2024-01-01T03:01:35.014447900Z",
     "start_time": "2024-01-01T03:01:34.971899700Z"
    }
   },
   "id": "5f1df9eadc418320"
  },
  {
   "cell_type": "code",
   "execution_count": 14,
   "outputs": [],
   "source": [
    "users_unique = rating_df['userId'].unique()\n",
    "movies_unique = rating_df['movieId'].unique()"
   ],
   "metadata": {
    "collapsed": false,
    "ExecuteTime": {
     "end_time": "2024-01-01T03:01:35.015444900Z",
     "start_time": "2024-01-01T03:01:34.981043400Z"
    }
   },
   "id": "9e2fcb0e2bc43b2e"
  },
  {
   "cell_type": "code",
   "execution_count": 15,
   "outputs": [
    {
     "name": "stdout",
     "output_type": "stream",
     "text": [
      "num_users=610\tnum_movies=9724\n"
     ]
    }
   ],
   "source": [
    "print(f'num_users={num_users}\\tnum_movies={num_movies}')"
   ],
   "metadata": {
    "collapsed": false,
    "ExecuteTime": {
     "end_time": "2024-01-01T03:01:35.028445Z",
     "start_time": "2024-01-01T03:01:35.007264100Z"
    }
   },
   "id": "23c8ba793aca903a"
  },
  {
   "cell_type": "code",
   "execution_count": 16,
   "outputs": [],
   "source": [
    "num_intersections = edge_index.shape[1]"
   ],
   "metadata": {
    "collapsed": false,
    "ExecuteTime": {
     "end_time": "2024-01-01T03:01:35.059793500Z",
     "start_time": "2024-01-01T03:01:35.022436Z"
    }
   },
   "id": "bd7aeacd428e14fa"
  },
  {
   "cell_type": "markdown",
   "source": [
    "#### 2-3 split training_data and validation_data and test_data\n",
    "\n",
    "just need to split the random_indices train: test = 7:3"
   ],
   "metadata": {
    "collapsed": false
   },
   "id": "d455920ecdacdc6e"
  },
  {
   "cell_type": "code",
   "execution_count": 17,
   "outputs": [],
   "source": [
    "all_indices = [i for i in range(num_intersections)]\n",
    "\n",
    "train_indices, test_indices = train_test_split(all_indices,\n",
    "                                               test_size=0.4,\n",
    "                                               shuffle=True,\n",
    "                                               random_state=16)\n",
    "\n",
    "# not data not position but index in all records\n",
    "train_index = edge_index[:, train_indices]\n",
    "test_index = edge_index[:, test_indices]"
   ],
   "metadata": {
    "collapsed": false,
    "ExecuteTime": {
     "end_time": "2024-01-01T03:01:35.059793500Z",
     "start_time": "2024-01-01T03:01:35.039576200Z"
    }
   },
   "id": "ea7f94f9aa590cdb"
  },
  {
   "cell_type": "code",
   "execution_count": 18,
   "outputs": [],
   "source": [
    "# only torch.tensor can fetch the given list index values, while only traditional slicing operation is available in python list\n",
    "train_values = edge_values[train_indices]\n",
    "test_values = edge_values[test_indices]"
   ],
   "metadata": {
    "collapsed": false,
    "ExecuteTime": {
     "end_time": "2024-01-01T03:01:35.059793500Z",
     "start_time": "2024-01-01T03:01:35.054134500Z"
    }
   },
   "id": "29aa57e15e5e19a1"
  },
  {
   "cell_type": "code",
   "execution_count": 19,
   "outputs": [
    {
     "name": "stdout",
     "output_type": "stream",
     "text": [
      "29148\n",
      "19432\n"
     ]
    }
   ],
   "source": [
    "print(len(train_values))\n",
    "print(len(test_values))"
   ],
   "metadata": {
    "collapsed": false,
    "ExecuteTime": {
     "end_time": "2024-01-01T03:01:35.094911300Z",
     "start_time": "2024-01-01T03:01:35.059793500Z"
    }
   },
   "id": "3d615684e426b4fd"
  },
  {
   "cell_type": "code",
   "execution_count": 20,
   "outputs": [
    {
     "name": "stdout",
     "output_type": "stream",
     "text": [
      "56\n",
      "2391\n",
      "4.0\n"
     ]
    }
   ],
   "source": [
    "print(train_index[0][1])\n",
    "print(train_index[1][1])\n",
    "print(train_values[1])"
   ],
   "metadata": {
    "collapsed": false,
    "ExecuteTime": {
     "end_time": "2024-01-01T03:01:35.122447700Z",
     "start_time": "2024-01-01T03:01:35.084911100Z"
    }
   },
   "id": "dd93b8b64f379bef"
  },
  {
   "cell_type": "markdown",
   "source": [
    "#### 2-4 adj_matrix building"
   ],
   "metadata": {
    "collapsed": false
   },
   "id": "3d1f026db344df09"
  },
  {
   "cell_type": "code",
   "execution_count": 21,
   "outputs": [],
   "source": [
    "def adjacency_mat(tmp_edge_index, tmp_edge_values):\n",
    "    \"\"\"\n",
    "    convert COO form to adjacency matrix, in train_data, val_data and test_data respectively\n",
    "    then convert to coo form to save internal storage\n",
    "    :param tmp_edge_index: train_index / valid_index / test_index\n",
    "    :param tmp_edge_values: rating records in training set / valid set / test set\n",
    "    :return: tmp_adj: a scipy sparse matrix before normalization `DAD`\n",
    "    :return: adj_matrix: a torch.sparse tensor after normalization\n",
    "    \"\"\"\n",
    "    users_ndarray, items_ndarray = np.split(tmp_edge_index, indices_or_sections=2, axis=0)\n",
    "    users_ndarray = users_ndarray.flatten()  # 2 axis -> 1 axis\n",
    "    items_ndarray = items_ndarray.flatten()\n",
    "    ratings_ndarray = tmp_edge_values\n",
    "    n_nodes = num_users + num_movies\n",
    "    \n",
    "    # a scipy sparse matrix\n",
    "    tmp_adj = sp.csr_matrix((ratings_ndarray, (users_ndarray, items_ndarray + num_users)), shape=(n_nodes, n_nodes))\n",
    "    adj_mat = tmp_adj + tmp_adj.T\n",
    "    \n",
    "    # d -> [1. / sqrt(nu \\ ni)]\n",
    "    row_sum = np.array(adj_mat.sum(1))\n",
    "    d_inv = np.power(row_sum, -0.5).flatten()\n",
    "    d_inv[np.isinf(d_inv)] = 0.\n",
    "    d_mat_inv = sp.dia_array((d_inv, 0), shape=(n_nodes, n_nodes))  # a scipy sparse matrix\n",
    "     \n",
    "    return tmp_adj, d_mat_inv"
   ],
   "metadata": {
    "collapsed": false,
    "ExecuteTime": {
     "end_time": "2024-01-01T03:01:35.132468600Z",
     "start_time": "2024-01-01T03:01:35.095911300Z"
    }
   },
   "id": "dcdff61ad505f1e0"
  },
  {
   "cell_type": "code",
   "execution_count": 22,
   "outputs": [
    {
     "name": "stderr",
     "output_type": "stream",
     "text": [
      "C:\\Users\\刘睿仪\\AppData\\Local\\Temp\\ipykernel_10000\\1612758821.py:22: RuntimeWarning: divide by zero encountered in power\n",
      "  d_inv = np.power(row_sum, -0.5).flatten()\n"
     ]
    }
   ],
   "source": [
    "train_adj, train_d = adjacency_mat(train_index, train_values)\n",
    "test_adj, test_d = adjacency_mat(test_index, test_values)"
   ],
   "metadata": {
    "collapsed": false,
    "ExecuteTime": {
     "end_time": "2024-01-01T03:01:35.132468600Z",
     "start_time": "2024-01-01T03:01:35.108265Z"
    }
   },
   "id": "4bf08d139e65bbea"
  },
  {
   "cell_type": "code",
   "execution_count": 23,
   "outputs": [
    {
     "name": "stdout",
     "output_type": "stream",
     "text": [
      "0.5\n"
     ]
    }
   ],
   "source": [
    "print(train_d.toarray()[824][824])"
   ],
   "metadata": {
    "collapsed": false,
    "ExecuteTime": {
     "end_time": "2024-01-01T03:01:35.187204100Z",
     "start_time": "2024-01-01T03:01:35.124469200Z"
    }
   },
   "id": "aff835c81725f588"
  },
  {
   "cell_type": "markdown",
   "source": [
    "#### 2-5 normal matrix for train data and test data"
   ],
   "metadata": {
    "collapsed": false
   },
   "id": "c6551593c73d610e"
  },
  {
   "cell_type": "code",
   "execution_count": 24,
   "outputs": [],
   "source": [
    "train_array = train_adj.toarray()[:num_users, num_users: ]  # transfer to common np matrix\n",
    "test_array = test_adj.toarray()[:num_users, num_users: ]"
   ],
   "metadata": {
    "collapsed": false,
    "ExecuteTime": {
     "end_time": "2024-01-01T03:01:35.197207500Z",
     "start_time": "2024-01-01T03:01:35.149613900Z"
    }
   },
   "id": "cc7776dbdce4db60"
  },
  {
   "cell_type": "markdown",
   "source": [
    "### 3. model -- lightGCN"
   ],
   "metadata": {
    "collapsed": false
   },
   "id": "6ad3824a256cbb27"
  },
  {
   "cell_type": "markdown",
   "source": [
    "__replenishment__:\n",
    "\n",
    "1.`softplus` $$ f(x) = ln(1 + e^x)$$\n",
    "\n",
    "The derivative of `softplus` function is `sigmoid` function\n",
    "\n",
    "2.`BPR loss`:\n",
    "\n",
    "$$\n",
    "L = - \\sum_{u=1}^{M} \\sum_{i\\in N_u} (\\sum_{j \\notin N_u} ln{\\sigma (e_{u}^T e_i - e_{u}^T e_j)) + \\lambda{||E||}^2\n",
    "$$\n",
    "\n",
    "because I dont' know how to compare a variant that adds normalization to graph Laplacian\n",
    "    "
   ],
   "metadata": {
    "collapsed": false
   },
   "id": "881a231adb587560"
  },
  {
   "cell_type": "markdown",
   "source": [
    "#### 3-1 build my dataset\n",
    "\n",
    "not authenticate dataset, no get_item usage"
   ],
   "metadata": {
    "collapsed": false
   },
   "id": "591c5c83917197e1"
  },
  {
   "cell_type": "code",
   "execution_count": 25,
   "outputs": [],
   "source": [
    "num_inter = len(train_index[0])\n",
    "inter_set = list(np.arange(num_inter))\n",
    "item_set = set(np.arange(num_movies))"
   ],
   "metadata": {
    "collapsed": false,
    "ExecuteTime": {
     "end_time": "2024-01-01T03:01:35.198207600Z",
     "start_time": "2024-01-01T03:01:35.162779400Z"
    }
   },
   "id": "d177e259b2a58f17"
  },
  {
   "cell_type": "code",
   "execution_count": 26,
   "outputs": [],
   "source": [
    "class MyDataset(Dataset):\n",
    "    def __init__(self, num_users, num_items, sparse_adj_init, d, edge_index, is_training, batch_size=2048):  \n",
    "        super().__init__()\n",
    "        self.is_training = is_training\n",
    "        self.device = torch.device(\"cuda\" if torch.cuda.is_available() else \"cpu\")\n",
    "        \n",
    "        self.num_users = torch.tensor(data=num_users).to(self.device)\n",
    "        self.num_items = torch.tensor(data=num_items).to(self.device)\n",
    "        \n",
    "        self.adj_init = sparse_adj_init  # train_adj / valid_adj / test_adj sp sparse matrix\n",
    "        self.d = d  # train_d / valid_d / test_d the row_sum sp sparse diag matrix\n",
    "        self.edge_index = torch.tensor(data=edge_index)\n",
    "    \n",
    "    def __len__(self):\n",
    "        return len(self.num_users)\n",
    "        "
   ],
   "metadata": {
    "collapsed": false,
    "ExecuteTime": {
     "end_time": "2024-01-01T03:01:35.199207400Z",
     "start_time": "2024-01-01T03:01:35.192206Z"
    }
   },
   "id": "9833d84559c059bb"
  },
  {
   "cell_type": "code",
   "execution_count": 27,
   "outputs": [],
   "source": [
    "training_dataset = MyDataset(num_users, num_movies, train_adj, train_d, train_index, is_training=1)"
   ],
   "metadata": {
    "collapsed": false,
    "ExecuteTime": {
     "end_time": "2024-01-01T03:01:36.429001400Z",
     "start_time": "2024-01-01T03:01:35.199207400Z"
    }
   },
   "id": "3fcdb01e80ba067d"
  },
  {
   "cell_type": "code",
   "execution_count": 28,
   "outputs": [
    {
     "name": "stdout",
     "output_type": "stream",
     "text": [
      "tensor([[ 351,   56,  199,  ...,   31,  609,  508],\n",
      "        [8237, 2391, 4421,  ...,  606, 6930, 7841]], dtype=torch.int32)\n",
      "[[ 351   56  199 ...   31  609  508]\n",
      " [8237 2391 4421 ...  606 6930 7841]]\n"
     ]
    }
   ],
   "source": [
    "print(training_dataset.edge_index)\n",
    "print(train_index)"
   ],
   "metadata": {
    "collapsed": false,
    "ExecuteTime": {
     "end_time": "2024-01-01T03:01:36.441531Z",
     "start_time": "2024-01-01T03:01:36.429001400Z"
    }
   },
   "id": "63c29f4cbb4ee9cf"
  },
  {
   "cell_type": "code",
   "execution_count": 29,
   "outputs": [
    {
     "name": "stdout",
     "output_type": "stream",
     "text": [
      "29148\n"
     ]
    }
   ],
   "source": [
    "print(len(train_index[0]))"
   ],
   "metadata": {
    "collapsed": false,
    "ExecuteTime": {
     "end_time": "2024-01-01T03:01:36.488823600Z",
     "start_time": "2024-01-01T03:01:36.441531Z"
    }
   },
   "id": "bfc63b95b120efee"
  },
  {
   "cell_type": "markdown",
   "source": [
    "#### 3-3 model design"
   ],
   "metadata": {
    "collapsed": false
   },
   "id": "5eddeccfa390650e"
  },
  {
   "cell_type": "code",
   "execution_count": 30,
   "outputs": [],
   "source": [
    "class LightGCN(nn.Module):\n",
    "    def __init__(self, dataset, embedding_size=64, embedding_layers=3):\n",
    "        super().__init__()\n",
    "        \"\"\"\n",
    "        nn.parameters can not be double \n",
    "        \"\"\"\n",
    "        self.device = torch.device(\"cuda\" if torch.cuda.is_available() else \"cpu\")\n",
    "        self.dataset = dataset  # the class MyDataset\n",
    "        \n",
    "        self.num_users = dataset.num_users.to(self.device)\n",
    "        self.num_items = dataset.num_items.to(self.device)\n",
    "        self.adj = dataset.adj_init\n",
    "        self.adj_init = dataset.adj_init\n",
    "        self.d = dataset.d  # sp sparse diag matrix on cpu\n",
    "        self.edge_index = dataset.edge_index\n",
    "        \n",
    "        self.embedding_size = torch.tensor(data=embedding_size, device=self.device)\n",
    "        self.embedding_layers = torch.tensor(data=embedding_layers, device=self.device)\n",
    "        self.users_emb = nn.Embedding(num_embeddings=self.num_users, embedding_dim=embedding_size).to(self.device)  # users_emb \n",
    "        self.items_emb = nn.Embedding(num_embeddings=self.num_items, embedding_dim=embedding_size).to(self.device)  # items_emb \n",
    "        self.emb_final = torch.empty(size=(self.num_users + self.num_items, self.embedding_size), device=self.device)\n",
    "        nn.init.normal_(tensor=self.users_emb.weight, std=0.1) # init weight for embedding layers\n",
    "        nn.init.normal_(tensor=self.items_emb.weight, std=0.1)  \n",
    "    \n",
    "    \n",
    "    def compute_A(self):  \n",
    "        # every embedding layer to update A\n",
    "        norm_mat_tmp = self.d.dot(self.adj)\n",
    "        self.adj = norm_mat_tmp.dot(self.d)\n",
    "        \n",
    "        adj_mat_coo = sp.csr_matrix.tocoo(self.adj)\n",
    "        values = adj_mat_coo.data\n",
    "        indices = np.vstack((adj_mat_coo.row, adj_mat_coo.col))  # sp coo matrix only has data / col / row, not indices\n",
    "        v = torch.FloatTensor(values)\n",
    "        i = torch.LongTensor(indices)\n",
    "        coo_shape = adj_mat_coo.shape \n",
    "        adj_matrix = torch.sparse_coo_tensor(indices=i, values=v, size=coo_shape, device=self.device)  # torch_sparse coo tensor to save CUDA memory\n",
    "\n",
    "        return adj_matrix\n",
    "    \n",
    "    \n",
    "    def lgc_pred(self):\n",
    "        tmp_emb = torch.cat(tensors=(self.users_emb.weight, self.items_emb.weight), dim=0).to(self.device)  # cat on dim 0, dim 1 stays the same\n",
    "        users_emb_init, items_emb_init = self.users_emb.weight, self.items_emb.weight  \n",
    "        embs = [tmp_emb]\n",
    "        \n",
    "        \"\"\"convolution, just related to the embedding parameters in init layer\"\"\"\n",
    "        for i in range(self.embedding_layers):\n",
    "            if i == 0:\n",
    "                self.adj = self.adj_init  # in my updated version, to avoid the adj matrix in accumulated multiplication\n",
    "            A = self.compute_A()\n",
    "            tmp_emb = torch.sparse.mm(A, tmp_emb).to(self.device)  # (m + n, num_embedding)\n",
    "            embs.append(tmp_emb)\n",
    "        \n",
    "        \"\"\"# aggregate multiple layers to alleviate the over_fit problem\"\"\"\n",
    "        embs = torch.stack(embs, dim=1)\n",
    "        self.emb_final = torch.mean(embs, dim=1)\n",
    "        users_emb_final, items_emb_final = torch.split(tensor=self.emb_final, split_size_or_sections=[self.num_users, self.num_items])\n",
    "\n",
    "        return users_emb_init, items_emb_init, users_emb_final, items_emb_final\n",
    "    \n",
    "    \n",
    "    def pred(self, users_emb_final, items_emb_final):      \n",
    "        pred_ratings = torch.matmul(users_emb_final, items_emb_final.t())\n",
    "        return pred_ratings\n",
    "         \n",
    "            \n",
    "    def compute_loss(self, users_emb_init, items_emb_init, users_emb_final, items_emb_final, user, pos, neg):\n",
    "        lambda_param = 0.00005  # regularization parameter， I have divided by two in the weight decay      \n",
    "        reg_loss = lambda_param * (torch.pow(users_emb_init.norm(2), 2) + torch.pow(items_emb_init[pos].norm(2), 2) + \n",
    "                                   torch.pow(items_emb_init[neg].norm(2), 2))  / num_users \n",
    "        \"\"\"\n",
    "        leaf Variable that requires grad can not be used in an in-place operation \n",
    "        torch.detach_(): turn into a leaf node\n",
    "        torch.detach(): return a new tensor with no grad\n",
    "        \"\"\"      \n",
    "        pos_score = torch.mul(users_emb_final[user], items_emb_final[pos]).to('cuda')   # (user_unique * candidate_num, embedding_size)\n",
    "        pos_score_sum = torch.sum(pos_score, dim=1)  # (users_unique, )\n",
    "        neg_score = torch.mul(users_emb_final[user], items_emb_final[neg]).to('cuda')   # (user_unique * candidate_num, embedding_size)\n",
    "        neg_score_sum = torch.sum(neg_score, dim=1)  # (users_unique, )\n",
    "        bpr_loss = torch.mean(F.softplus(neg_score_sum - pos_score_sum))# a single number\n",
    "\n",
    "        loss = bpr_loss + reg_loss \n",
    "        \n",
    "        return loss\n",
    "   \n",
    "              \n",
    "    def forward(self, batch_user, batch_pos, batch_neg):\n",
    "        users_emb_init, items_emb_init, users_emb_final, items_emb_final = self.lgc_pred()\n",
    "        loss = torch.tensor(data=0., requires_grad=True, device=self.device)\n",
    "        loss = loss + self.compute_loss(users_emb_init, items_emb_init, users_emb_final, items_emb_final, batch_user, batch_pos, batch_neg)\n",
    "        \n",
    "        return loss"
   ],
   "metadata": {
    "collapsed": false,
    "ExecuteTime": {
     "end_time": "2024-01-01T03:01:36.491815700Z",
     "start_time": "2024-01-01T03:01:36.458778800Z"
    }
   },
   "id": "fab1d1a5be3a3ed4"
  },
  {
   "cell_type": "markdown",
   "source": [
    "#### 3-4 instantiating model objects"
   ],
   "metadata": {
    "collapsed": false
   },
   "id": "bab2260d4711ae19"
  },
  {
   "cell_type": "code",
   "execution_count": 31,
   "outputs": [],
   "source": [
    "training_model = LightGCN(training_dataset).to('cuda')"
   ],
   "metadata": {
    "collapsed": false,
    "ExecuteTime": {
     "end_time": "2024-01-01T03:01:36.520118800Z",
     "start_time": "2024-01-01T03:01:36.474816Z"
    }
   },
   "id": "c0d21412b1731f59"
  },
  {
   "cell_type": "code",
   "execution_count": 32,
   "outputs": [
    {
     "name": "stdout",
     "output_type": "stream",
     "text": [
      "size of learnable embedding = torch.Size([9724, 64])\n"
     ]
    }
   ],
   "source": [
    "print(f'size of learnable embedding = {list(training_model.parameters())[1].size()}')"
   ],
   "metadata": {
    "collapsed": false,
    "ExecuteTime": {
     "end_time": "2024-01-01T03:01:36.535907400Z",
     "start_time": "2024-01-01T03:01:36.513086300Z"
    }
   },
   "id": "c9930d33f0d0c347"
  },
  {
   "cell_type": "markdown",
   "source": [
    "## 4. evaluation metrics"
   ],
   "metadata": {
    "collapsed": false
   },
   "id": "10d851fff3b6ab89"
  },
  {
   "cell_type": "markdown",
   "source": [
    "train_array and test_array are all global variables"
   ],
   "metadata": {
    "collapsed": false
   },
   "id": "cf725527056ebb5d"
  },
  {
   "cell_type": "markdown",
   "source": [
    "#### 4-1 recall and ndcg computer"
   ],
   "metadata": {
    "collapsed": false
   },
   "id": "55ee620435612686"
  },
  {
   "cell_type": "code",
   "execution_count": 33,
   "outputs": [],
   "source": [
    "def get_recall_ndcg(pred_ratings):\n",
    "    device = torch.device('cuda' if torch.cuda.is_available() else 'cpu')\n",
    "    recalls = torch.ones(size=(num_users, ), device=device)\n",
    "    dcgs = torch.zeros(size=(num_users, ), device=device)\n",
    "    \n",
    "    train_records = train_array\n",
    "    test_records = test_array  # (num_users, num_movies)  -> ratings, not index\n",
    "\n",
    "    iu_te = np.sum(test_records, axis=1)  # sum of ratings, not index\n",
    "    zeros_line = np.where(iu_te == 0)[0]  # so few record of this user\n",
    "    recalls[zeros_line] = 0\n",
    "    valid_line = set(np.arange(0, num_users)).difference(set(zeros_line))\n",
    "    \n",
    "    for u in valid_line:\n",
    "        tmp_pos = train_records[u].nonzero()[0]\n",
    "        pred_ratings[u][tmp_pos] = -1000  # move pred_ratings appeared in train data\n",
    "        recommend_indices = torch.topk(pred_ratings[u], k=20).indices.cpu().numpy()  # only all ndarray can intersect\n",
    "        inter = set(test_records[u].nonzero()[0]).intersection(set(recommend_indices)) # recommend movies appeared in test data\n",
    "        recalls[u] = torch.tensor(data=len(list(inter)) * 1.0 / iu_te[u], dtype=torch.float, device=device)\n",
    "        if len(list(inter)) > 0:\n",
    "            for item in inter:\n",
    "                dcgs[u] += 1.0 / np.log2(item + 2)\n",
    "                     \n",
    "    rec_20 = sum(recalls) / len(list(valid_line))\n",
    "    ndcg_20 = sum(dcgs) / len(list(valid_line))\n",
    "    \n",
    "    return recalls, rec_20, dcgs, ndcg_20       "
   ],
   "metadata": {
    "collapsed": false,
    "ExecuteTime": {
     "end_time": "2024-01-01T03:01:36.578677500Z",
     "start_time": "2024-01-01T03:01:36.540346900Z"
    }
   },
   "id": "ec535c76a2b5727d"
  },
  {
   "cell_type": "markdown",
   "source": [
    "#### 4-2 functional encapsulation"
   ],
   "metadata": {
    "collapsed": false
   },
   "id": "e750a8762dff2956"
  },
  {
   "cell_type": "code",
   "execution_count": 34,
   "outputs": [],
   "source": [
    "def retrieve_evaluation(pred_ratings):\n",
    "    recalls, rec_20, dcgs, ndcg_20 = get_recall_ndcg(pred_ratings)\n",
    "    return rec_20, ndcg_20"
   ],
   "metadata": {
    "collapsed": false,
    "ExecuteTime": {
     "end_time": "2024-01-01T03:01:36.580807800Z",
     "start_time": "2024-01-01T03:01:36.553598600Z"
    }
   },
   "id": "cfa80ec785b67221"
  },
  {
   "cell_type": "markdown",
   "source": [
    "## 5. training function"
   ],
   "metadata": {
    "collapsed": false
   },
   "id": "7b8b16a411f4dafb"
  },
  {
   "cell_type": "code",
   "execution_count": 35,
   "outputs": [],
   "source": [
    "   def neg_sampling(user, pos_items, candidate_num):     \n",
    "        \"\"\"\n",
    "        only define a function to fetch a certain users, not all users\n",
    "        :param user: \n",
    "        :param pos_items: all pos_items in a certain user\n",
    "        :return: neg_items: a list, candidate_num negative items \n",
    "        \"\"\"\n",
    "        pos_set = set(pos_items)\n",
    "        neg_set = item_set.difference(pos_set)\n",
    "        neg_items = list(neg_set)\n",
    "        neg_items = random.choices(neg_items, k=candidate_num)    \n",
    "        return neg_items"
   ],
   "metadata": {
    "collapsed": false,
    "ExecuteTime": {
     "end_time": "2024-01-01T03:01:36.591903800Z",
     "start_time": "2024-01-01T03:01:36.563239300Z"
    }
   },
   "id": "2f3719515284da70"
  },
  {
   "cell_type": "code",
   "execution_count": 36,
   "outputs": [],
   "source": [
    "def train_func():\n",
    "    best_rec20, best_ndcg20 = 0, 0\n",
    "    training_model.train()\n",
    "    loss_list = []\n",
    "    rec_list = []\n",
    "    ndcg_list = []\n",
    "    training_model.to(training_model.device)\n",
    "    opt = optim.Adam(training_model.parameters(), lr=0.0003)\n",
    "    candidate_num = 10  # if a user has less than 15 valid records, than discard\n",
    "    pbar = tqdm(range(2000))  # progress bar\n",
    "    \n",
    "    for epoch in pbar: \n",
    "        users = []\n",
    "        pos = []\n",
    "        neg = []\n",
    "        for user in users_unique:\n",
    "            tmp_user_pos = train_array[user].nonzero()[0]\n",
    "            if len(tmp_user_pos) >= candidate_num:\n",
    "                users.extend([user for _ in range(candidate_num)])\n",
    "                user_neg = neg_sampling(user, tmp_user_pos, candidate_num)\n",
    "                user_pos = np.random.choice(tmp_user_pos, candidate_num) # only select candidate_num pos sample!\n",
    "                pos.extend(user_pos)\n",
    "                neg.extend(user_neg)\n",
    "                \n",
    "        users, pos, neg = map(torch.tensor, [users, pos, neg]) # all users, every user 10 pos 10 neg\n",
    "        loss = training_model.forward(users, pos, neg)\n",
    "        pbar.set_postfix({'bpr_loss': loss.item()})\n",
    "        \n",
    "        loss.backward()\n",
    "        loss_list.append(loss.detach().cpu())  # for plotting loss curve\n",
    "        opt.step()\n",
    "           \n",
    "        if (epoch + 1) % 100 == 0:\n",
    "            training_model.eval()\n",
    "            with torch.no_grad():\n",
    "                users_emb_init, items_emb_init, users_emb_final, items_emb_final = training_model.lgc_pred()\n",
    "                pred_ratings = training_model.pred(users_emb_final, items_emb_final)\n",
    "                rec_20, ndcg_20 = retrieve_evaluation(pred_ratings)\n",
    "                pbar.set_postfix({'rec_20': rec_20.item()})\n",
    "                pbar.set_postfix({'ndcg_20': ndcg_20.item()})\n",
    "                \n",
    "                if ndcg_20 > best_ndcg20 or rec_20 > best_rec20:\n",
    "                    best_ndcg20 = ndcg_20\n",
    "                    users_emb_final, items_emb_final = torch.split(tensor=training_model.emb_final, split_size_or_sections=[num_users, num_movies])\n",
    "                    torch.save(users_emb_final, 'users_emb_final.pt')\n",
    "                    torch.save(items_emb_final, 'items_emb_final.pt')\n",
    "                    torch.save(users_emb_init, 'users_emb_init.pt')\n",
    "                    torch.save(items_emb_init, 'items_emb_init.pt')\n",
    "                    \n",
    "            rec_list.append(rec_20.detach().cpu())\n",
    "            ndcg_list.append(ndcg_20.detach().cpu())\n",
    "            training_model.train()\n",
    "\n",
    "    return loss_list, rec_list, ndcg_list"
   ],
   "metadata": {
    "collapsed": false,
    "ExecuteTime": {
     "end_time": "2024-01-01T03:01:36.599169900Z",
     "start_time": "2024-01-01T03:01:36.580807800Z"
    }
   },
   "id": "9877c7561c9ac813"
  },
  {
   "cell_type": "code",
   "execution_count": 37,
   "outputs": [
    {
     "data": {
      "text/plain": "  0%|          | 0/2000 [00:00<?, ?it/s]",
      "application/vnd.jupyter.widget-view+json": {
       "version_major": 2,
       "version_minor": 0,
       "model_id": "62f6031b8f024119965a892629e2ba20"
      }
     },
     "metadata": {},
     "output_type": "display_data"
    }
   ],
   "source": [
    "loss_list, rec_list, ndcg_list = train_func()"
   ],
   "metadata": {
    "collapsed": false,
    "ExecuteTime": {
     "end_time": "2024-01-01T03:05:01.017179800Z",
     "start_time": "2024-01-01T03:01:36.599169900Z"
    }
   },
   "id": "6e44492082d48dfd"
  },
  {
   "cell_type": "code",
   "execution_count": 38,
   "outputs": [
    {
     "name": "stdout",
     "output_type": "stream",
     "text": [
      "2000\n"
     ]
    }
   ],
   "source": [
    "print(len(loss_list))"
   ],
   "metadata": {
    "collapsed": false,
    "ExecuteTime": {
     "end_time": "2024-01-01T03:05:01.033179700Z",
     "start_time": "2024-01-01T03:05:01.018160200Z"
    }
   },
   "id": "611d75889df0fe80"
  },
  {
   "cell_type": "code",
   "execution_count": 39,
   "outputs": [],
   "source": [
    "loss_list = loss_list[:]\n",
    "rec_list = rec_list[:]\n",
    "ndcg_list = ndcg_list[:]"
   ],
   "metadata": {
    "collapsed": false,
    "ExecuteTime": {
     "end_time": "2024-01-01T03:05:01.076535400Z",
     "start_time": "2024-01-01T03:05:01.034148400Z"
    }
   },
   "id": "efee99d072fad974"
  },
  {
   "cell_type": "code",
   "execution_count": 40,
   "outputs": [
    {
     "name": "stdout",
     "output_type": "stream",
     "text": [
      "2000\n",
      "20\n"
     ]
    }
   ],
   "source": [
    "print(len(loss_list))\n",
    "print(len(rec_list))"
   ],
   "metadata": {
    "collapsed": false,
    "ExecuteTime": {
     "end_time": "2024-01-01T03:05:01.082535700Z",
     "start_time": "2024-01-01T03:05:01.048056500Z"
    }
   },
   "id": "2ab417d79d775b8d"
  },
  {
   "cell_type": "markdown",
   "source": [
    "### 6. Visualization of Training Performance"
   ],
   "metadata": {
    "collapsed": false
   },
   "id": "9af666e5c392738b"
  },
  {
   "cell_type": "code",
   "execution_count": 41,
   "outputs": [
    {
     "name": "stdout",
     "output_type": "stream",
     "text": [
      "2000\n"
     ]
    }
   ],
   "source": [
    "epoch_list = [(i + 1) for i in range(2000)]\n",
    "print(len(loss_list))"
   ],
   "metadata": {
    "collapsed": false,
    "ExecuteTime": {
     "end_time": "2024-01-01T03:05:01.083622200Z",
     "start_time": "2024-01-01T03:05:01.065568900Z"
    }
   },
   "id": "da536fe5094ea95e"
  },
  {
   "cell_type": "code",
   "execution_count": 42,
   "outputs": [
    {
     "data": {
      "text/plain": "Text(0.5, 1.0, 'loss function of LightGCN')"
     },
     "execution_count": 42,
     "metadata": {},
     "output_type": "execute_result"
    },
    {
     "data": {
      "text/plain": "<Figure size 640x480 with 1 Axes>",
      "image/png": "[encoded data removed]"
     },
     "metadata": {},
     "output_type": "display_data"
    }
   ],
   "source": [
    "fig, ax = plt.subplots()\n",
    "plt.plot(epoch_list, loss_list, color='r',label=\"loss\")\n",
    "plt.legend()\n",
    "plt.xlabel(\"iterate itme\")\n",
    "plt.ylabel('loss function')\n",
    "plt.title('loss function of LightGCN')"
   ],
   "metadata": {
    "collapsed": false,
    "ExecuteTime": {
     "end_time": "2024-01-01T03:05:01.200241300Z",
     "start_time": "2024-01-01T03:05:01.078535600Z"
    }
   },
   "id": "e1dd2285dcf8a8f6"
  },
  {
   "cell_type": "code",
   "execution_count": 43,
   "outputs": [
    {
     "data": {
      "text/plain": "Text(0.5, 1.0, 'recall@20 of LightGCN')"
     },
     "execution_count": 43,
     "metadata": {},
     "output_type": "execute_result"
    },
    {
     "data": {
      "text/plain": "<Figure size 640x480 with 1 Axes>",
      "image/png": "[encoded data removed]"
     },
     "metadata": {},
     "output_type": "display_data"
    }
   ],
   "source": [
    "fig1, ax1 = plt.subplots()\n",
    "plt.plot(np.arange(100,2100,100), rec_list, color='g', label='recall')\n",
    "# plt.plot(np.arange(15), ndcg_list, color='b', label='ndcg')\n",
    "# plt.legend()\n",
    "plt.xlabel(\"iterate itme\")\n",
    "plt.ylabel('recall@20')\n",
    "plt.title('recall@20 of LightGCN')"
   ],
   "metadata": {
    "collapsed": false,
    "ExecuteTime": {
     "end_time": "2024-01-01T03:05:01.291953Z",
     "start_time": "2024-01-01T03:05:01.198130800Z"
    }
   },
   "id": "173093bd7fa239ea"
  },
  {
   "cell_type": "code",
   "execution_count": 44,
   "outputs": [
    {
     "data": {
      "text/plain": "Text(0.5, 1.0, 'ndcg@20 of LightGCN')"
     },
     "execution_count": 44,
     "metadata": {},
     "output_type": "execute_result"
    },
    {
     "data": {
      "text/plain": "<Figure size 640x480 with 1 Axes>",
      "image/png": "[encoded data removed]"
     },
     "metadata": {},
     "output_type": "display_data"
    }
   ],
   "source": [
    "fig2, ax2 = plt.subplots()\n",
    "plt.plot(np.arange(100,2100,100), ndcg_list, color='b', label='ndcg')\n",
    "plt.xlabel(\"iterate itme\")\n",
    "plt.ylabel('ndcg@20')\n",
    "plt.title('ndcg@20 of LightGCN')"
   ],
   "metadata": {
    "collapsed": false,
    "ExecuteTime": {
     "end_time": "2024-01-01T03:05:01.383470500Z",
     "start_time": "2024-01-01T03:05:01.292949100Z"
    }
   },
   "id": "36e9e79397853303"
  },
  {
   "cell_type": "code",
   "execution_count": 44,
   "outputs": [],
   "source": [],
   "metadata": {
    "collapsed": false,
    "ExecuteTime": {
     "end_time": "2024-01-01T03:05:01.396048Z",
     "start_time": "2024-01-01T03:05:01.385670500Z"
    }
   },
   "id": "4e79ab39c4276b8e"
  }
 ],
 "metadata": {
  "kernelspec": {
   "display_name": "Python 3",
   "language": "python",
   "name": "python3"
  },
  "language_info": {
   "codemirror_mode": {
    "name": "ipython",
    "version": 2
   },
   "file_extension": ".py",
   "mimetype": "text/x-python",
   "name": "python",
   "nbconvert_exporter": "python",
   "pygments_lexer": "ipython2",
   "version": "2.7.6"
  }
 },
 "nbformat": 4,
 "nbformat_minor": 5
}
